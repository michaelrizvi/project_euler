{
 "cells": [
  {
   "cell_type": "code",
   "execution_count": null,
   "metadata": {},
   "outputs": [],
   "source": [
    "import numpy as np\n",
    "import math"
   ]
  },
  {
   "cell_type": "code",
   "execution_count": null,
   "metadata": {
    "id": "tsHmYOJbSpQ4"
   },
   "outputs": [],
   "source": [
    "# Problem 1: Find the sum of all the multiples of 3 or 5 below 1000.\n",
    "\n",
    "def findmult35(n):\n",
    "  sum = 0\n",
    "  for i in range(0,n):\n",
    "    if i%3 == 0 or i%5 == 0:\n",
    "      sum = sum + i\n",
    "\n",
    "  return sum"
   ]
  },
  {
   "cell_type": "code",
   "execution_count": null,
   "metadata": {
    "colab": {
     "base_uri": "https://localhost:8080/"
    },
    "id": "hIWRAZl1VACD",
    "outputId": "e9b95b76-ee12-4433-fceb-f93d8fc59067"
   },
   "outputs": [
    {
     "data": {
      "text/plain": [
       "233168"
      ]
     },
     "execution_count": 5,
     "metadata": {
      "tags": []
     },
     "output_type": "execute_result"
    }
   ],
   "source": [
    "findmult35(1000)"
   ]
  },
  {
   "cell_type": "code",
   "execution_count": 1,
   "metadata": {
    "id": "ic-P31CPTLUc"
   },
   "outputs": [],
   "source": [
    "# Problem 2: By considering the terms in the Fibonacci sequence whose values do not exceed four million, find the sum of the even-valued terms.\n",
    "MAX = 1000\n",
    "  \n",
    "# Create an array for memorization \n",
    "f = [0] * MAX\n",
    "\n",
    "def fib(n) : \n",
    "    # Base cases \n",
    "    if (n == 0) : \n",
    "        return 0\n",
    "    if (n == 1 or n == 2) : \n",
    "        f[n] = 1\n",
    "        return (f[n]) \n",
    "  \n",
    "    # If fib(n) is already computed \n",
    "    if (f[n]) : \n",
    "        return f[n] \n",
    "  \n",
    "    if( n & 1) : \n",
    "        k = (n + 1) // 2\n",
    "    else :  \n",
    "        k = n // 2\n",
    "  \n",
    "    # Applying above formula Note value n&1 is 1 \n",
    "    # if n is odd, else 0. \n",
    "    if((n & 1) ) : \n",
    "        f[n] = (fib(k) * fib(k) + fib(k-1) * fib(k-1)) \n",
    "    else : \n",
    "        f[n] = (2*fib(k-1) + fib(k))*fib(k) \n",
    "  \n",
    "    return f[n] \n"
   ]
  },
  {
   "cell_type": "code",
   "execution_count": 2,
   "metadata": {
    "id": "9nyZfWCzVJdg"
   },
   "outputs": [],
   "source": [
    "def evenfibo(max):\n",
    "  sum = 0\n",
    "  fibo = 0\n",
    "  n = 0\n",
    "  while fibo < max:\n",
    "    fibo = fib(n)\n",
    "    if fibo%2 == 0:\n",
    "      sum = sum + fibo\n",
    "    n = n + 1\n",
    "  return sum"
   ]
  },
  {
   "cell_type": "code",
   "execution_count": 3,
   "metadata": {
    "colab": {
     "base_uri": "https://localhost:8080/"
    },
    "id": "uW6RThOHXQdh",
    "outputId": "1358cf34-793d-4568-dccd-f887e349dc8d"
   },
   "outputs": [
    {
     "name": "stdout",
     "output_type": "stream",
     "text": [
      "4613732\n"
     ]
    }
   ],
   "source": [
    "print(evenfibo(4000000))"
   ]
  },
  {
   "cell_type": "code",
   "execution_count": 4,
   "metadata": {
    "id": "M9B-6mcC8Jwg"
   },
   "outputs": [],
   "source": [
    "# Problem 3 What is the largest prime factor of the number 600851475143 ?\n",
    "def largest_prime_factor(n):\n",
    "    i = 2\n",
    "    while i * i <= n:\n",
    "        if n % i:\n",
    "            i += 1\n",
    "        else:\n",
    "            n //= i\n",
    "    return n"
   ]
  },
  {
   "cell_type": "code",
   "execution_count": 5,
   "metadata": {
    "colab": {
     "base_uri": "https://localhost:8080/"
    },
    "id": "Uwf33S74AHz4",
    "outputId": "5717ac90-a367-4fe5-f241-ebfd17a59128"
   },
   "outputs": [
    {
     "data": {
      "text/plain": [
       "6857"
      ]
     },
     "execution_count": 5,
     "metadata": {},
     "output_type": "execute_result"
    }
   ],
   "source": [
    "largest_prime_factor(600851475143)"
   ]
  },
  {
   "cell_type": "code",
   "execution_count": 6,
   "metadata": {
    "id": "QQnNHDgYA3zb"
   },
   "outputs": [],
   "source": [
    "# Find the largest palindrome made from the product of two 3-digit numbers.\n",
    "def palindrome(nbdigits):\n",
    "  n = 10**(nbdigits - 1)\n",
    "  pal_list = []\n",
    "  for i in range(n,n*10 - 1):\n",
    "    for j in range(n,n*10 - 1):\n",
    "      product = i*j\n",
    "      if str(product) == str(product)[::-1]:\n",
    "        pal_list.append(product)\n",
    "  return pal_list\n",
    "\n",
    "def biggest_palindrome(nbdigits):\n",
    "  n = 10**(nbdigits - 1)\n",
    "  biggest_pal = 0\n",
    "  for i in range(n,n*10 - 1):\n",
    "    for j in range(n,n*10 - 1):\n",
    "      product = i*j\n",
    "      if str(product) == str(product)[::-1]:\n",
    "        if product > biggest_pal:\n",
    "          biggest_pal = product\n",
    "  return biggest_pal"
   ]
  },
  {
   "cell_type": "code",
   "execution_count": 7,
   "metadata": {
    "colab": {
     "base_uri": "https://localhost:8080/"
    },
    "id": "n_fnLDmVCMGe",
    "outputId": "3d26fc8b-78f5-461e-d87b-4266d4377762"
   },
   "outputs": [
    {
     "name": "stdout",
     "output_type": "stream",
     "text": [
      "906609\n",
      "906609\n"
     ]
    }
   ],
   "source": [
    "pal_list = palindrome(3)\n",
    "biggest = biggest_palindrome(3)\n",
    "print(max(pal_list))\n",
    "print(biggest)"
   ]
  },
  {
   "cell_type": "code",
   "execution_count": 8,
   "metadata": {
    "colab": {
     "base_uri": "https://localhost:8080/"
    },
    "id": "WP9o6KzCo8NB",
    "outputId": "b4346e14-e32f-43c4-8ed9-2cade111fa0d"
   },
   "outputs": [
    {
     "name": "stdout",
     "output_type": "stream",
     "text": [
      "232792560\n"
     ]
    }
   ],
   "source": [
    "number = 5*2*2*3*3*7*2*11*2*19*17*13\n",
    "print(number)"
   ]
  },
  {
   "cell_type": "code",
   "execution_count": 9,
   "metadata": {
    "colab": {
     "base_uri": "https://localhost:8080/"
    },
    "id": "9aRcOeUsD1AC",
    "outputId": "f08255b5-6d85-48cb-8aaf-69760cd1b949"
   },
   "outputs": [
    {
     "name": "stdout",
     "output_type": "stream",
     "text": [
      "25164150\n"
     ]
    }
   ],
   "source": [
    "sumOfSquares = 0\n",
    "for i in range(1,101):\n",
    "  sumOfSquares += i**2\n",
    "\n",
    "squareOfSums = 0\n",
    "for i in range(1,101):\n",
    "  squareOfSums += i\n",
    "\n",
    "\n",
    "squareOfSums = squareOfSums**2 \n",
    "print( squareOfSums - sumOfSquares)"
   ]
  },
  {
   "cell_type": "code",
   "execution_count": 11,
   "metadata": {
    "id": "giz0oauoHJmU"
   },
   "outputs": [
    {
     "ename": "ModuleNotFoundError",
     "evalue": "No module named 'numpy'",
     "output_type": "error",
     "traceback": [
      "\u001b[0;31m---------------------------------------------------------------------------\u001b[0m",
      "\u001b[0;31mModuleNotFoundError\u001b[0m                       Traceback (most recent call last)",
      "\u001b[0;32m<ipython-input-11-8ccd7e0bc59e>\u001b[0m in \u001b[0;36m<module>\u001b[0;34m\u001b[0m\n\u001b[1;32m      1\u001b[0m \u001b[0;31m# What is the 10 001st prime number?\u001b[0m\u001b[0;34m\u001b[0m\u001b[0;34m\u001b[0m\u001b[0;34m\u001b[0m\u001b[0m\n\u001b[0;32m----> 2\u001b[0;31m \u001b[0;32mimport\u001b[0m \u001b[0mnumpy\u001b[0m \u001b[0;32mas\u001b[0m \u001b[0mnp\u001b[0m\u001b[0;34m\u001b[0m\u001b[0;34m\u001b[0m\u001b[0m\n\u001b[0m\u001b[1;32m      3\u001b[0m \u001b[0;32mimport\u001b[0m \u001b[0mmath\u001b[0m\u001b[0;34m\u001b[0m\u001b[0;34m\u001b[0m\u001b[0m\n\u001b[1;32m      4\u001b[0m \u001b[0;34m\u001b[0m\u001b[0m\n\u001b[1;32m      5\u001b[0m \u001b[0;32mdef\u001b[0m \u001b[0mprimebound\u001b[0m\u001b[0;34m(\u001b[0m\u001b[0mn\u001b[0m\u001b[0;34m)\u001b[0m\u001b[0;34m:\u001b[0m\u001b[0;34m\u001b[0m\u001b[0;34m\u001b[0m\u001b[0m\n",
      "\u001b[0;31mModuleNotFoundError\u001b[0m: No module named 'numpy'"
     ]
    }
   ],
   "source": [
    "# What is the 10 001st prime number?\n",
    "\n",
    "def primebound(n):\n",
    "  return n*np.log(n) + n*np.log(np.log(n))\n",
    "\n",
    "def sieve(n):\n",
    "  p = 2\n",
    "  primes = list(range(2,n+1))\n",
    "  while p*p <= n:\n",
    "    print(p)\n",
    "    primes = [0 if (x%p==0 and x/p > 1) else x for x in primes]\n",
    "    print(primes)\n",
    "    p = p + 1\n",
    "    i = 0\n",
    "    while primes[i] == 0:\n",
    "      p = p + 1\n",
    "      i = i + 1\n",
    "  primes = [i for i in primes if i != 0]\n",
    "  return primes\n"
   ]
  }
 ],
 "metadata": {
  "colab": {
   "collapsed_sections": [],
   "name": "projecteuleur.ipynb",
   "provenance": []
  },
  "kernelspec": {
   "display_name": "Python 3",
   "language": "python",
   "name": "python3"
  },
  "language_info": {
   "codemirror_mode": {
    "name": "ipython",
    "version": 3
   },
   "file_extension": ".py",
   "mimetype": "text/x-python",
   "name": "python",
   "nbconvert_exporter": "python",
   "pygments_lexer": "ipython3",
   "version": "3.9.2"
  }
 },
 "nbformat": 4,
 "nbformat_minor": 1
}
